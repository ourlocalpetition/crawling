{
 "cells": [
  {
   "cell_type": "code",
   "execution_count": 15,
   "metadata": {},
   "outputs": [],
   "source": [
    "from urllib.request import urlopen\n",
    "from bs4 import BeautifulSoup\n",
    "import requests\n",
    "from tqdm.notebook import tqdm\n",
    "import re"
   ]
  },
  {
   "cell_type": "code",
   "execution_count": 16,
   "metadata": {},
   "outputs": [],
   "source": [
    "list_topic=['pol','eco','lif','soc','int']\n",
    "topic_dict={'pol':\"정치\",'eco':\"경제\",'lif':\"라이프\",'soc':\"사회\",'int':\"국제\"}"
   ]
  },
  {
   "cell_type": "code",
   "execution_count": 17,
   "metadata": {},
   "outputs": [],
   "source": [
    "import pandas as pd\n",
    "import numpy as np\n",
    "#기간설정\n",
    "dt_index = pd.date_range(start='20200101', end='20200103')"
   ]
  },
  {
   "cell_type": "code",
   "execution_count": 18,
   "metadata": {},
   "outputs": [],
   "source": [
    "# 각각의 리스트 생성\n",
    "topic_list=[]\n",
    "date_list=[]\n",
    "title_list=[]\n",
    "text_list=[]"
   ]
  },
  {
   "cell_type": "code",
   "execution_count": 19,
   "metadata": {},
   "outputs": [],
   "source": [
    "def no_space(text):\n",
    "    text1=re.sub('&nbsp; | &nbsp;| \\n|\\t|\\r','',text)\n",
    "    text2=re.sub('\\n\\n','',text1)\n",
    "    return text2"
   ]
  },
  {
   "cell_type": "code",
   "execution_count": 20,
   "metadata": {},
   "outputs": [],
   "source": [
    "#크롤링 def\n",
    "def get_news(date,main_url,sub_url,num,topic):\n",
    "    html = urlopen(main_url+date)\n",
    "    bsObject = BeautifulSoup(html, \"html.parser\")\n",
    "    bs_page=bsObject.find(class_=\"paging\")\n",
    "    for meta in bsObject.find_all('dt'):\n",
    "        link=meta.a.get('href')\n",
    "        title=no_space(meta.text)\n",
    "        \n",
    "        title_list.append(title)\n",
    "        date=date\n",
    "        date_list.append(date)\n",
    "        url=urlopen(sub_url+link)\n",
    "        bs_obj=BeautifulSoup(url, \"html.parser\")\n",
    "        bs_text=bs_obj.body.find(class_=\"tx\")\n",
    "        text=no_space(bs_text.text)\n",
    "        text_list.append(text)\n",
    "        topic_list.append(topic_dict[topic])\n",
    "\n",
    "    if(bs_page.find(class_=\"end\").get('href')==(\"list.asp?sid1=\"+topic+\"&sid2=&page=1&sdate=\"+date+\"&st=\")):\n",
    "        return bsObject\n",
    "  \n",
    "    if(bs_page.find(class_=\"end\").get('href')==(\"list.asp?sid1=\"+topic+\"&sid2=&page=\"+str(num)+\"&sdate=\"+date+\"&st=\")):\n",
    "        return bsObject\n",
    "    else:\n",
    "        #재귀 호출\n",
    "        url_new=\"http://news.kmib.co.kr/article/list.asp?sid1=\"+topic+\"&sid2=&page=\"+str(num+1)+\"&sdate=\"\n",
    "        return get_news(date,url_new,sub_url,num+1,topic)\n"
   ]
  },
  {
   "cell_type": "code",
   "execution_count": 21,
   "metadata": {},
   "outputs": [
    {
     "data": {
      "application/vnd.jupyter.widget-view+json": {
       "model_id": "45e1e9e86d0d49b49b5b297a48cf7074",
       "version_major": 2,
       "version_minor": 0
      },
      "text/plain": [
       "HBox(children=(HTML(value='Topic_Progress'), FloatProgress(value=0.0, max=5.0), HTML(value='')))"
      ]
     },
     "metadata": {},
     "output_type": "display_data"
    },
    {
     "data": {
      "application/vnd.jupyter.widget-view+json": {
       "model_id": "3fada18cb37642bf96e755060a30054b",
       "version_major": 2,
       "version_minor": 0
      },
      "text/plain": [
       "HBox(children=(HTML(value='Day_Progress'), FloatProgress(value=0.0, max=3.0), HTML(value='')))"
      ]
     },
     "metadata": {},
     "output_type": "display_data"
    },
    {
     "name": "stdout",
     "output_type": "stream",
     "text": [
      "\n"
     ]
    },
    {
     "data": {
      "application/vnd.jupyter.widget-view+json": {
       "model_id": "7498cd66f5184345bf9aa7829c44d62a",
       "version_major": 2,
       "version_minor": 0
      },
      "text/plain": [
       "HBox(children=(HTML(value='Day_Progress'), FloatProgress(value=0.0, max=3.0), HTML(value='')))"
      ]
     },
     "metadata": {},
     "output_type": "display_data"
    },
    {
     "name": "stdout",
     "output_type": "stream",
     "text": [
      "\n"
     ]
    },
    {
     "data": {
      "application/vnd.jupyter.widget-view+json": {
       "model_id": "0f10899f7e5648f2874e96eed69bcd81",
       "version_major": 2,
       "version_minor": 0
      },
      "text/plain": [
       "HBox(children=(HTML(value='Day_Progress'), FloatProgress(value=0.0, max=3.0), HTML(value='')))"
      ]
     },
     "metadata": {},
     "output_type": "display_data"
    },
    {
     "name": "stdout",
     "output_type": "stream",
     "text": [
      "\n"
     ]
    },
    {
     "data": {
      "application/vnd.jupyter.widget-view+json": {
       "model_id": "2b6abfa6b2fa4c1796245142051bc11d",
       "version_major": 2,
       "version_minor": 0
      },
      "text/plain": [
       "HBox(children=(HTML(value='Day_Progress'), FloatProgress(value=0.0, max=3.0), HTML(value='')))"
      ]
     },
     "metadata": {},
     "output_type": "display_data"
    },
    {
     "name": "stdout",
     "output_type": "stream",
     "text": [
      "\n"
     ]
    },
    {
     "data": {
      "application/vnd.jupyter.widget-view+json": {
       "model_id": "3c25511cf2174e9a900f0db272274c1f",
       "version_major": 2,
       "version_minor": 0
      },
      "text/plain": [
       "HBox(children=(HTML(value='Day_Progress'), FloatProgress(value=0.0, max=3.0), HTML(value='')))"
      ]
     },
     "metadata": {},
     "output_type": "display_data"
    },
    {
     "name": "stdout",
     "output_type": "stream",
     "text": [
      "\n",
      "\n"
     ]
    }
   ],
   "source": [
    "#크롤링 시작\n",
    "try:\n",
    "    for num_topic in tqdm(range(len(list_topic)),desc=\"Topic_Progress\"):\n",
    "        main_url=\"http://news.kmib.co.kr/article/list.asp?sid1=\"+list_topic[num_topic]+\"&sid2=&sdate=\"\n",
    "        sub_url='http://news.kmib.co.kr/article/'\n",
    "        for num_date in tqdm(range(len(dt_index.date)),desc=\"Day_Progress\"):\n",
    "            date=dt_index.date[num_date]\n",
    "            date=str(date).split('-')[0]+str(date).split('-')[1]+str(date).split('-')[2]\n",
    "            bs=get_news(date,main_url,sub_url,1,list_topic[num_topic])\n",
    "except:\n",
    "    print(\"에러가 발생 했습니다.\")"
   ]
  },
  {
   "cell_type": "code",
   "execution_count": 22,
   "metadata": {},
   "outputs": [
    {
     "name": "stdout",
     "output_type": "stream",
     "text": [
      "         date                                          title topic  \\\n",
      "0    20200101                         [포토] 문 대통령, 의인들과 함께 산행    정치   \n",
      "1    20200101                문희상 “공수처법 통과는 세 대통령의 꿈이 현실화한 것”    정치   \n",
      "2    20200101                               북한 설맞이 화려한 축하 행사    정치   \n",
      "3    20200101                  “시간이 얼마 없다” 한국당發 보수통합론 다시 불붙나    정치   \n",
      "4    20200101                  문희상 의장 “공수처법 통과로 3명 대통령 원 풀어”    정치   \n",
      "..        ...                                            ...   ...   \n",
      "655  20200103              “트럼프 오판에 北·이란發 외교 역풍… 벽두부터 이중 위기”    국제   \n",
      "656  20200103                  중국, ‘원인불명 폐렴’ 속출… 사스 재발 공포 퍼져    국제   \n",
      "657  20200103                 대만군 참모총장, 블랙호크 추락사고로 사망… 8명 숨져    국제   \n",
      "658  20200103  [아직 살만한 세상] 새해 팁으로 ‘2020달러’ 놓고 간 손님… 여종업원의 눈물    국제   \n",
      "659  20200103             질투에 눈이 멀어…‘청산가리 버블티’ 마신 베트남 간호사 사망    국제   \n",
      "\n",
      "                                                  text  \n",
      "0    문재인 대통령이 1일 오전 ‘2019년을 빛낸 의인’ 7명과 함께 서울 아차산에 올...  \n",
      "1    문희상 국회의장이 2020년 새해 첫날인 1일 오전 서울 동작구 국립서울현충원을 참...  \n",
      "2    \\n북한은 평양 김일성광장에서 불꽃놀이와 함께 특설무대에서 화려한 공연을 펼쳤다. ...  \n",
      "3    자유한국당 황교안 대표가 1일 서울 영등포 중앙당사에서 열린 2020년 신년인사회에...  \n",
      "4    문희상 국회의장이 1일 오전 서울 동작구 국립서울현충원 참배를 마친 뒤 방명록에 나...  \n",
      "..                                                 ...  \n",
      "655  미 육군 82공수사단 신속대응부대와 504낙하산부대 소속 군인들이 1일(현지시간) ...  \n",
      "656  중국에서 원인 불명의 폐렴 환자가 속출하면서 2000년대 초 수백명의 목숨을 앗아간...  \n",
      "657  지난해 3월7일 선 참모총장이 기자회견에서 거수경례를 하고 있는 모습. 뉴시스선이밍...  \n",
      "658  지난달 30일(현지시간) 미국 미시간주 앨피나의 선더베이리버 레스토랑에서 이곳 종업...  \n",
      "659  기사와 관련 없는 이미지. 아이스톡포토자신의 남편과 치정 문제에 얽힌 조카를 독살하...  \n",
      "\n",
      "[660 rows x 4 columns]\n"
     ]
    }
   ],
   "source": [
    "#판다스로 저장 (후에 csv파일로 저장 라인 추가)\n",
    "df=pd.DataFrame({\"date\":date_list, \"title\":title_list, \"topic\":topic_list,\"text\":text_list}) \n",
    "print(df) "
   ]
  },
  {
   "cell_type": "code",
   "execution_count": null,
   "metadata": {},
   "outputs": [],
   "source": [
    "df.to_csv('kuk')"
   ]
  }
 ],
 "metadata": {
  "kernelspec": {
   "display_name": "Python 3",
   "language": "python",
   "name": "python3"
  },
  "language_info": {
   "codemirror_mode": {
    "name": "ipython",
    "version": 3
   },
   "file_extension": ".py",
   "mimetype": "text/x-python",
   "name": "python",
   "nbconvert_exporter": "python",
   "pygments_lexer": "ipython3",
   "version": "3.7.9"
  }
 },
 "nbformat": 4,
 "nbformat_minor": 4
}
