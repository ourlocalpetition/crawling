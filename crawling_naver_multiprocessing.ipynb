{
 "cells": [
  {
   "cell_type": "code",
   "execution_count": 1,
   "metadata": {},
   "outputs": [],
   "source": [
    "from urllib.request import urlopen\n",
    "from bs4 import BeautifulSoup\n",
    "import requests\n",
    "from tqdm.notebook import tqdm\n",
    "import re\n",
    "import time\n",
    "from functools import partial\n",
    "from multiprocessing import Pool\n"
   ]
  },
  {
   "cell_type": "code",
   "execution_count": 2,
   "metadata": {},
   "outputs": [],
   "source": [
    "list_topic=['100','101','102','103','104','105']\n",
    "list_subtopic=[['264','265','268','266','267','269'],#청와대,국회/정당,북한,행정,국방/외교,정치일반\n",
    "               ['259','258','261','771','260','262','310','263'],#금융,증권,산업/재계,중기/벤처,부동산,글로벌 경제,생활경제,경제 일반\n",
    "               ['249','250','251','254','252','59b','255','256','257'],#사건사고,교육,노동,언론,환경,인권/복지,식품/의료,지역,사회일반\n",
    "               ['241','239','240','237','238','376','245'],#건강정보,자동차/시승기,도로/교통,여행/레저,음식/맛집,패션/뷰티,생활문화 일반\n",
    "               ['231','232','233','234','322'],#아시아/호주,미국/중남미,유럽,중동/아프리카,세계 일반\n",
    "               ['731','226','227','230','732','283','229','228'],#모바일,인터넷/sns,통신/뉴미디어,IT일반,보안/해킹,컴퓨터,게임/리뷰,과학일반\n",
    "              ]\n",
    "topic_dict={'100':\"정치\",'101':\"경제\",'102':\"사회\",'103':\"생활/문화\",'104':\"국제\",'105':\"IT/과학\"}\n",
    "topic_sub={'264':\"청와대\",'265':'국회/정당','268':'북한','266':'행정','267':'국방/외교','269':'정치일반',\n",
    "           '259':'금융','258':'증권','261':'산업/재계','771':'중기/벤처','260':'부동산','262':'글로벌 경제','310':'생활경제','263':'경제일반',\n",
    "           '249':'사건사고','250':'교육','251':'노동','254':'언론','252':'환경','59b':'인권/복지','255':'식품/의료','256':'지역','257':'사회일반',\n",
    "           '241':'건강정보','239':'자동차/시승기','240':'도로/교통','237':'여행/레저','238':'음식/맛집','376':'패션/뷰티','245':'생활문화 일반',\n",
    "           '231':'아시아/호주','232':'미국/중남미','233':'유럽','234':'중동/아프리카','322':'세계 일반',\n",
    "           '731':'모바일','226':'인터넷/sns','227':'통신/뉴미디어','230':'IT일반','732':'보안/해킹','283':'컴퓨터','229':'게임/리뷰','228':'과학일반'}"
   ]
  },
  {
   "cell_type": "code",
   "execution_count": 3,
   "metadata": {},
   "outputs": [],
   "source": [
    "import pandas as pd\n",
    "import numpy as np\n",
    "#기간설정\n",
    "dt_index = pd.date_range(start='20200101', end='20200101')"
   ]
  },
  {
   "cell_type": "code",
   "execution_count": 4,
   "metadata": {},
   "outputs": [],
   "source": [
    "headers={'User-Agent':'Mozilla/5.0 (Macintosh; Intel Mac OS X 10_15_6) AppleWebKit/605.1.15 (KHTML, like Gecko) Version/14.0.2 Safari/605.1.15',}\n"
   ]
  },
  {
   "cell_type": "code",
   "execution_count": 5,
   "metadata": {},
   "outputs": [],
   "source": [
    "# 각각의 리스트 생성\n",
    "topic_list=[]\n",
    "date_list=[]\n",
    "title_list=[]\n",
    "text_list=[] \n",
    "subtopic_list=[]\n",
    "page_list=[]\n",
    "link_list=[]"
   ]
  },
  {
   "cell_type": "code",
   "execution_count": 6,
   "metadata": {},
   "outputs": [],
   "source": [
    "def no_space(text):\n",
    "    text1=re.sub('&nbsp; | &nbsp;| \\n|\\t|\\r','',text)\n",
    "    text2=re.sub('\\n\\n','',text1)\n",
    "    return text2"
   ]
  },
  {
   "cell_type": "code",
   "execution_count": 7,
   "metadata": {},
   "outputs": [],
   "source": [
    "\n",
    "#페이지 수 세는 def\n",
    "def paging(page,page_list):\n",
    "    \n",
    "    for p in page:\n",
    "        if(p.text==\"이전\"):\n",
    "            pass\n",
    "        elif(p.text==\"다음\"):\n",
    "            page_list.append(\"https://news.naver.com/main/read.nhn\"+p['href'])\n",
    "            html = \"https://news.naver.com/main/list.nhn\"+p['href']\n",
    "            url=requests.get(html,headers=headers)\n",
    "            bsObject = BeautifulSoup(url.content, \"html.parser\")\n",
    "            page=bsObject.select(\"#main_content > div.paging > a\")\n",
    "            paging(page,page_list)\n",
    "        else:\n",
    "            page_list.append(\"https://news.naver.com/main/read.nhn\"+p['href'])\n",
    "\n"
   ]
  },
  {
   "cell_type": "code",
   "execution_count": 8,
   "metadata": {},
   "outputs": [],
   "source": [
    "def get_content(date,topic,subtopic,meta):\n",
    "    date=date\n",
    "    url=meta\n",
    "    url=requests.get(url,headers=headers)\n",
    "    bs_obj=BeautifulSoup(url.content, \"html.parser\")  \n",
    "    try:\n",
    "        title=bs_obj.select_one(\"#articleTitle\").text         \n",
    "        x=bs_obj.select_one(\"#articleBodyContents\").text\n",
    "        title=no_space(title)\n",
    "        text=no_space(x)        \n",
    "        date_list.append(date)\n",
    "        topic_list.append(topic_dict[topic])\n",
    "        subtopic_list.append(topic_sub[sub_topic])\n",
    "        title_list.append(title)\n",
    "        text_list.append(text)\n",
    "    except:\n",
    "        print(meta['href'])"
   ]
  },
  {
   "cell_type": "code",
   "execution_count": 11,
   "metadata": {},
   "outputs": [],
   "source": [
    "#크롤링 def\n",
    "def get_news(date,topic,sub_topic,main_url):\n",
    "    link_list=[]\n",
    "    html = main_url\n",
    "    html=requests.get(html,headers=headers)\n",
    "    bsObject = BeautifulSoup(html.content, \"html.parser\")\n",
    "    for meta in bsObject.select(\"#main_content > div.list_body.newsflash_body > ul> li > dl \"):\n",
    "        meta=meta.select_one(\"a\")\n",
    "        link=meta['href']\n",
    "        link_list.append(link)\n",
    "    print(link_list)\n",
    "    con=partial(get_content,date,topic,sub_topic)\n",
    "    pool=Pool(processes=10)\n",
    "    pool.map(con,link_list)\n",
    "    pool.close()\n",
    "    pool.join()\n"
   ]
  },
  {
   "cell_type": "code",
   "execution_count": null,
   "metadata": {},
   "outputs": [],
   "source": []
  },
  {
   "cell_type": "code",
   "execution_count": null,
   "metadata": {},
   "outputs": [],
   "source": []
  },
  {
   "cell_type": "code",
   "execution_count": 12,
   "metadata": {},
   "outputs": [
    {
     "data": {
      "application/vnd.jupyter.widget-view+json": {
       "model_id": "bf13907c8ed14420a3910238e593cb8d",
       "version_major": 2,
       "version_minor": 0
      },
      "text/plain": [
       "HBox(children=(HTML(value='Topic_Progress'), FloatProgress(value=0.0, max=6.0), HTML(value='')))"
      ]
     },
     "metadata": {},
     "output_type": "display_data"
    },
    {
     "data": {
      "application/vnd.jupyter.widget-view+json": {
       "model_id": "637f4f650daf42b6a3e6bcf94bc44a2f",
       "version_major": 2,
       "version_minor": 0
      },
      "text/plain": [
       "HBox(children=(HTML(value='Sub_Topic_Progress'), FloatProgress(value=0.0, max=6.0), HTML(value='')))"
      ]
     },
     "metadata": {},
     "output_type": "display_data"
    },
    {
     "data": {
      "application/vnd.jupyter.widget-view+json": {
       "model_id": "30a7ca8a534546eba63754d14c854577",
       "version_major": 2,
       "version_minor": 0
      },
      "text/plain": [
       "HBox(children=(HTML(value='Day_Progress'), FloatProgress(value=0.0, max=1.0), HTML(value='')))"
      ]
     },
     "metadata": {},
     "output_type": "display_data"
    },
    {
     "name": "stdout",
     "output_type": "stream",
     "text": [
      "['https://news.naver.com/main/read.nhn?mode=LS2D&mid=shm&sid1=100&sid2=264&oid=032&aid=0002983868', 'https://news.naver.com/main/read.nhn?mode=LS2D&mid=shm&sid1=100&sid2=264&oid=421&aid=0004387220', 'https://news.naver.com/main/read.nhn?mode=LS2D&mid=shm&sid1=100&sid2=264&oid=011&aid=0003674411', 'https://news.naver.com/main/read.nhn?mode=LS2D&mid=shm&sid1=100&sid2=264&oid=421&aid=0004387208', 'https://news.naver.com/main/read.nhn?mode=LS2D&mid=shm&sid1=100&sid2=264&oid=008&aid=0004333375', 'https://news.naver.com/main/read.nhn?mode=LS2D&mid=shm&sid1=100&sid2=264&oid=029&aid=0002578073', 'https://news.naver.com/main/read.nhn?mode=LS2D&mid=shm&sid1=100&sid2=264&oid=028&aid=0002480154', 'https://news.naver.com/main/read.nhn?mode=LS2D&mid=shm&sid1=100&sid2=264&oid=421&aid=0004387179', 'https://news.naver.com/main/read.nhn?mode=LS2D&mid=shm&sid1=100&sid2=264&oid=003&aid=0009634498', 'https://news.naver.com/main/read.nhn?mode=LS2D&mid=shm&sid1=100&sid2=264&oid=016&aid=0001619647', 'https://news.naver.com/main/read.nhn?mode=LS2D&mid=shm&sid1=100&sid2=264&oid=009&aid=0004492853', 'https://news.naver.com/main/read.nhn?mode=LS2D&mid=shm&sid1=100&sid2=264&oid=421&aid=0004387176', 'https://news.naver.com/main/read.nhn?mode=LS2D&mid=shm&sid1=100&sid2=264&oid=015&aid=0004266632', 'https://news.naver.com/main/read.nhn?mode=LS2D&mid=shm&sid1=100&sid2=264&oid=015&aid=0004266630', 'https://news.naver.com/main/read.nhn?mode=LS2D&mid=shm&sid1=100&sid2=264&oid=009&aid=0004492820', 'https://news.naver.com/main/read.nhn?mode=LS2D&mid=shm&sid1=100&sid2=264&oid=421&aid=0004387141', 'https://news.naver.com/main/read.nhn?mode=LS2D&mid=shm&sid1=100&sid2=264&oid=003&aid=0009634485', 'https://news.naver.com/main/read.nhn?mode=LS2D&mid=shm&sid1=100&sid2=264&oid=014&aid=0004351308', 'https://news.naver.com/main/read.nhn?mode=LS2D&mid=shm&sid1=100&sid2=264&oid=277&aid=0004598396', 'https://news.naver.com/main/read.nhn?mode=LS2D&mid=shm&sid1=100&sid2=264&oid=005&aid=0001274038']\n",
      "\n"
     ]
    },
    {
     "ename": "TypeError",
     "evalue": "string indices must be integers",
     "output_type": "error",
     "traceback": [
      "\u001b[0;31m---------------------------------------------------------------------------\u001b[0m",
      "\u001b[0;31mRemoteTraceback\u001b[0m                           Traceback (most recent call last)",
      "\u001b[0;31mRemoteTraceback\u001b[0m: \n\"\"\"\nTraceback (most recent call last):\n  File \"<ipython-input-8-ff03ec54c81e>\", line 13, in get_content\n    subtopic_list.append(topic_sub[sub_topic])\nNameError: name 'sub_topic' is not defined\n\nDuring handling of the above exception, another exception occurred:\n\nTraceback (most recent call last):\n  File \"/Users/seokha/opt/anaconda3/lib/python3.7/multiprocessing/pool.py\", line 121, in worker\n    result = (True, func(*args, **kwds))\n  File \"/Users/seokha/opt/anaconda3/lib/python3.7/multiprocessing/pool.py\", line 44, in mapstar\n    return list(map(*args))\n  File \"<ipython-input-8-ff03ec54c81e>\", line 17, in get_content\n    print(meta['href'])\nTypeError: string indices must be integers\n\"\"\"",
      "\nThe above exception was the direct cause of the following exception:\n",
      "\u001b[0;31mTypeError\u001b[0m                                 Traceback (most recent call last)",
      "\u001b[0;32m<ipython-input-12-3d646b1e9945>\u001b[0m in \u001b[0;36m<module>\u001b[0;34m\u001b[0m\n\u001b[1;32m     11\u001b[0m             \u001b[0mdate\u001b[0m\u001b[0;34m=\u001b[0m\u001b[0mdate\u001b[0m\u001b[0;34m.\u001b[0m\u001b[0msplit\u001b[0m\u001b[0;34m(\u001b[0m\u001b[0;34m'-'\u001b[0m\u001b[0;34m)\u001b[0m\u001b[0;34m[\u001b[0m\u001b[0;36m0\u001b[0m\u001b[0;34m]\u001b[0m\u001b[0;34m+\u001b[0m\u001b[0mdate\u001b[0m\u001b[0;34m.\u001b[0m\u001b[0msplit\u001b[0m\u001b[0;34m(\u001b[0m\u001b[0;34m'-'\u001b[0m\u001b[0;34m)\u001b[0m\u001b[0;34m[\u001b[0m\u001b[0;36m1\u001b[0m\u001b[0;34m]\u001b[0m\u001b[0;34m+\u001b[0m\u001b[0mdate\u001b[0m\u001b[0;34m.\u001b[0m\u001b[0msplit\u001b[0m\u001b[0;34m(\u001b[0m\u001b[0;34m'-'\u001b[0m\u001b[0;34m)\u001b[0m\u001b[0;34m[\u001b[0m\u001b[0;36m2\u001b[0m\u001b[0;34m]\u001b[0m\u001b[0;34m\u001b[0m\u001b[0;34m\u001b[0m\u001b[0m\n\u001b[1;32m     12\u001b[0m             \u001b[0mpage_list\u001b[0m\u001b[0;34m=\u001b[0m\u001b[0;34m[\u001b[0m\u001b[0;34m]\u001b[0m\u001b[0;34m\u001b[0m\u001b[0;34m\u001b[0m\u001b[0m\n\u001b[0;32m---> 13\u001b[0;31m             \u001b[0mget_news\u001b[0m\u001b[0;34m(\u001b[0m\u001b[0mdate\u001b[0m\u001b[0;34m,\u001b[0m\u001b[0mlist_topic\u001b[0m\u001b[0;34m[\u001b[0m\u001b[0mnum_main\u001b[0m\u001b[0;34m]\u001b[0m\u001b[0;34m,\u001b[0m\u001b[0mlist_subtopic\u001b[0m\u001b[0;34m[\u001b[0m\u001b[0mnum_main\u001b[0m\u001b[0;34m]\u001b[0m\u001b[0;34m[\u001b[0m\u001b[0mnum_sub\u001b[0m\u001b[0;34m]\u001b[0m\u001b[0;34m,\u001b[0m\u001b[0mmain_url\u001b[0m\u001b[0;34m+\u001b[0m\u001b[0mdate\u001b[0m\u001b[0;34m)\u001b[0m\u001b[0;34m\u001b[0m\u001b[0;34m\u001b[0m\u001b[0m\n\u001b[0m\u001b[1;32m     14\u001b[0m \u001b[0;34m\u001b[0m\u001b[0m\n\u001b[1;32m     15\u001b[0m \u001b[0;34m\u001b[0m\u001b[0m\n",
      "\u001b[0;32m<ipython-input-11-4a397fbc0b8c>\u001b[0m in \u001b[0;36mget_news\u001b[0;34m(date, topic, sub_topic, main_url)\u001b[0m\n\u001b[1;32m     12\u001b[0m     \u001b[0mcon\u001b[0m\u001b[0;34m=\u001b[0m\u001b[0mpartial\u001b[0m\u001b[0;34m(\u001b[0m\u001b[0mget_content\u001b[0m\u001b[0;34m,\u001b[0m\u001b[0mdate\u001b[0m\u001b[0;34m,\u001b[0m\u001b[0mtopic\u001b[0m\u001b[0;34m,\u001b[0m\u001b[0msub_topic\u001b[0m\u001b[0;34m)\u001b[0m\u001b[0;34m\u001b[0m\u001b[0;34m\u001b[0m\u001b[0m\n\u001b[1;32m     13\u001b[0m     \u001b[0mpool\u001b[0m\u001b[0;34m=\u001b[0m\u001b[0mPool\u001b[0m\u001b[0;34m(\u001b[0m\u001b[0mprocesses\u001b[0m\u001b[0;34m=\u001b[0m\u001b[0;36m10\u001b[0m\u001b[0;34m)\u001b[0m\u001b[0;34m\u001b[0m\u001b[0;34m\u001b[0m\u001b[0m\n\u001b[0;32m---> 14\u001b[0;31m     \u001b[0mpool\u001b[0m\u001b[0;34m.\u001b[0m\u001b[0mmap\u001b[0m\u001b[0;34m(\u001b[0m\u001b[0mcon\u001b[0m\u001b[0;34m,\u001b[0m\u001b[0mlink_list\u001b[0m\u001b[0;34m)\u001b[0m\u001b[0;34m\u001b[0m\u001b[0;34m\u001b[0m\u001b[0m\n\u001b[0m\u001b[1;32m     15\u001b[0m     \u001b[0mpool\u001b[0m\u001b[0;34m.\u001b[0m\u001b[0mclose\u001b[0m\u001b[0;34m(\u001b[0m\u001b[0;34m)\u001b[0m\u001b[0;34m\u001b[0m\u001b[0;34m\u001b[0m\u001b[0m\n\u001b[1;32m     16\u001b[0m     \u001b[0mpool\u001b[0m\u001b[0;34m.\u001b[0m\u001b[0mjoin\u001b[0m\u001b[0;34m(\u001b[0m\u001b[0;34m)\u001b[0m\u001b[0;34m\u001b[0m\u001b[0;34m\u001b[0m\u001b[0m\n",
      "\u001b[0;32m~/opt/anaconda3/lib/python3.7/multiprocessing/pool.py\u001b[0m in \u001b[0;36mmap\u001b[0;34m(self, func, iterable, chunksize)\u001b[0m\n\u001b[1;32m    266\u001b[0m         \u001b[0;32min\u001b[0m \u001b[0ma\u001b[0m \u001b[0mlist\u001b[0m \u001b[0mthat\u001b[0m \u001b[0;32mis\u001b[0m \u001b[0mreturned\u001b[0m\u001b[0;34m.\u001b[0m\u001b[0;34m\u001b[0m\u001b[0;34m\u001b[0m\u001b[0m\n\u001b[1;32m    267\u001b[0m         '''\n\u001b[0;32m--> 268\u001b[0;31m         \u001b[0;32mreturn\u001b[0m \u001b[0mself\u001b[0m\u001b[0;34m.\u001b[0m\u001b[0m_map_async\u001b[0m\u001b[0;34m(\u001b[0m\u001b[0mfunc\u001b[0m\u001b[0;34m,\u001b[0m \u001b[0miterable\u001b[0m\u001b[0;34m,\u001b[0m \u001b[0mmapstar\u001b[0m\u001b[0;34m,\u001b[0m \u001b[0mchunksize\u001b[0m\u001b[0;34m)\u001b[0m\u001b[0;34m.\u001b[0m\u001b[0mget\u001b[0m\u001b[0;34m(\u001b[0m\u001b[0;34m)\u001b[0m\u001b[0;34m\u001b[0m\u001b[0;34m\u001b[0m\u001b[0m\n\u001b[0m\u001b[1;32m    269\u001b[0m \u001b[0;34m\u001b[0m\u001b[0m\n\u001b[1;32m    270\u001b[0m     \u001b[0;32mdef\u001b[0m \u001b[0mstarmap\u001b[0m\u001b[0;34m(\u001b[0m\u001b[0mself\u001b[0m\u001b[0;34m,\u001b[0m \u001b[0mfunc\u001b[0m\u001b[0;34m,\u001b[0m \u001b[0miterable\u001b[0m\u001b[0;34m,\u001b[0m \u001b[0mchunksize\u001b[0m\u001b[0;34m=\u001b[0m\u001b[0;32mNone\u001b[0m\u001b[0;34m)\u001b[0m\u001b[0;34m:\u001b[0m\u001b[0;34m\u001b[0m\u001b[0;34m\u001b[0m\u001b[0m\n",
      "\u001b[0;32m~/opt/anaconda3/lib/python3.7/multiprocessing/pool.py\u001b[0m in \u001b[0;36mget\u001b[0;34m(self, timeout)\u001b[0m\n\u001b[1;32m    655\u001b[0m             \u001b[0;32mreturn\u001b[0m \u001b[0mself\u001b[0m\u001b[0;34m.\u001b[0m\u001b[0m_value\u001b[0m\u001b[0;34m\u001b[0m\u001b[0;34m\u001b[0m\u001b[0m\n\u001b[1;32m    656\u001b[0m         \u001b[0;32melse\u001b[0m\u001b[0;34m:\u001b[0m\u001b[0;34m\u001b[0m\u001b[0;34m\u001b[0m\u001b[0m\n\u001b[0;32m--> 657\u001b[0;31m             \u001b[0;32mraise\u001b[0m \u001b[0mself\u001b[0m\u001b[0;34m.\u001b[0m\u001b[0m_value\u001b[0m\u001b[0;34m\u001b[0m\u001b[0;34m\u001b[0m\u001b[0m\n\u001b[0m\u001b[1;32m    658\u001b[0m \u001b[0;34m\u001b[0m\u001b[0m\n\u001b[1;32m    659\u001b[0m     \u001b[0;32mdef\u001b[0m \u001b[0m_set\u001b[0m\u001b[0;34m(\u001b[0m\u001b[0mself\u001b[0m\u001b[0;34m,\u001b[0m \u001b[0mi\u001b[0m\u001b[0;34m,\u001b[0m \u001b[0mobj\u001b[0m\u001b[0;34m)\u001b[0m\u001b[0;34m:\u001b[0m\u001b[0;34m\u001b[0m\u001b[0;34m\u001b[0m\u001b[0m\n",
      "\u001b[0;31mTypeError\u001b[0m: string indices must be integers"
     ]
    }
   ],
   "source": [
    "#크롤링 시작\n",
    "num=0\n",
    "\n",
    "start_time=time.time()\n",
    "\n",
    "for num_main in tqdm(range(len(list_topic)),desc='Topic_Progress',leave=False):\n",
    "    for num_sub in tqdm(range(len(list_subtopic[num])),desc='Sub_Topic_Progress',leave=False):\n",
    "        main_url=\"https://news.naver.com/main/list.nhn?mode=LS2D&mid=shm&sid2=\"+list_subtopic[num_main][num_sub]+\"&sid1=\"+list_topic[num_main]+\"&date=\"\n",
    "        for num_date in tqdm(range(len(dt_index.date)),desc='Day_Progress'):\n",
    "            date=str(dt_index.date[num_date])\n",
    "            date=date.split('-')[0]+date.split('-')[1]+date.split('-')[2]\n",
    "            page_list=[]\n",
    "            get_news(date,list_topic[num_main],list_subtopic[num_main][num_sub],main_url+date)    \n",
    "            \n",
    "            \n",
    "            html = main_url+date\n",
    "            html=requests.get(html,headers=headers)\n",
    "            bsObject = BeautifulSoup(html.content, \"html.parser\")     \n",
    "            \n",
    "            page=bsObject.select(\"#main_content > div.paging > a\")\n",
    "            paging(page,page_list)\n",
    "            for k in page_list:\n",
    "                get_news(date,list_topic[num_main],list_subtopic[num_main][num_sub],k)\n",
    "\n",
    "\n",
    "\n",
    "\n",
    "            \n",
    "            time.sleep(0.05)\n",
    "            \n",
    "            \n",
    "    num+=1\n",
    "print(time.time()-start_time)"
   ]
  },
  {
   "cell_type": "code",
   "execution_count": null,
   "metadata": {},
   "outputs": [],
   "source": [
    "#판다스로 저장 (후에 csv파일로 저장 라인 추가)\n",
    "\n",
    "df=pd.DataFrame({\"date\":date_list, \"title\":title_list, \"topic\":topic_list,\"text\":text_list}) \n",
    "print(df) "
   ]
  },
  {
   "cell_type": "code",
   "execution_count": null,
   "metadata": {},
   "outputs": [],
   "source": []
  },
  {
   "cell_type": "code",
   "execution_count": null,
   "metadata": {},
   "outputs": [],
   "source": []
  },
  {
   "cell_type": "code",
   "execution_count": null,
   "metadata": {},
   "outputs": [],
   "source": []
  }
 ],
 "metadata": {
  "kernelspec": {
   "display_name": "Python 3",
   "language": "python",
   "name": "python3"
  },
  "language_info": {
   "codemirror_mode": {
    "name": "ipython",
    "version": 3
   },
   "file_extension": ".py",
   "mimetype": "text/x-python",
   "name": "python",
   "nbconvert_exporter": "python",
   "pygments_lexer": "ipython3",
   "version": "3.7.9"
  }
 },
 "nbformat": 4,
 "nbformat_minor": 4
}
