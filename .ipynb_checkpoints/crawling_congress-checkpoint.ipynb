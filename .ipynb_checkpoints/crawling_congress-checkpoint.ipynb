{
 "cells": [
  {
   "cell_type": "code",
   "execution_count": 1,
   "metadata": {},
   "outputs": [],
   "source": [
    "from urllib.request import urlopen\n",
    "from bs4 import BeautifulSoup\n",
    "import requests\n",
    "from tqdm.notebook import tqdm\n",
    "import re\n",
    "import time\n",
    "\n",
    "from selenium import webdriver\n",
    "from selenium.webdriver.chrome.options import Options\n",
    "from selenium.webdriver.support.wait import WebDriverWait"
   ]
  },
  {
   "cell_type": "code",
   "execution_count": 2,
   "metadata": {},
   "outputs": [],
   "source": [
    "def no_space(text):\n",
    "    text1=re.sub('&nbsp; | &nbsp;| \\n|\\t|\\r','',text)\n",
    "    text2=re.sub('\\n\\n','',text1)\n",
    "    return text2"
   ]
  },
  {
   "cell_type": "code",
   "execution_count": 3,
   "metadata": {},
   "outputs": [],
   "source": [
    "import pandas as pd\n",
    "import numpy as np\n"
   ]
  },
  {
   "cell_type": "code",
   "execution_count": 4,
   "metadata": {},
   "outputs": [],
   "source": [
    "title_list=[]\n",
    "date_list=[]\n",
    "result_list=[]\n",
    "agree_list=[]\n",
    "effect_list=[]\n",
    "text_list=[]\n",
    "topic_list=[]"
   ]
  },
  {
   "cell_type": "code",
   "execution_count": 5,
   "metadata": {},
   "outputs": [],
   "source": [
    "driver = webdriver.Chrome('./chromedriver')\n",
    "driver2 = webdriver.Chrome('./chromedriver')\n",
    "\n",
    "driver.implicitly_wait(10)\n",
    "driver2.implicitly_wait(10)\n",
    "\n",
    "driver.get(\"https://petitions.assembly.go.kr/closed/inadequate\")\n",
    "driver.find_element_by_id(\"beginDate\").send_keys('002020-01-20')\n",
    "search=driver.find_element_by_class_name(\"btn_search\")\n",
    "search.click()\n",
    "\n",
    "\n"
   ]
  },
  {
   "cell_type": "code",
   "execution_count": 6,
   "metadata": {},
   "outputs": [
    {
     "name": "stdout",
     "output_type": "stream",
     "text": [
      "크롤링 완료\n"
     ]
    }
   ],
   "source": [
    "driver.implicitly_wait(10)\n",
    "driver2.implicitly_wait(10)\n",
    "next_page=driver.find_element_by_xpath('//*[@id=\"contentsbody\"]/div/div/div[5]/div[3]/ul/li[10]/a')\n",
    "try:\n",
    "    \n",
    "    while True:\n",
    "        list_petition=driver.find_elements_by_css_selector('#contentsbody > div > div > div.petitionListWrap > div.petitionListDiv > div.ListDiv > ul>li>div> a')\n",
    "        for num in list_petition:\n",
    "            driver2.get(num.get_attribute('href'))\n",
    "            title=driver2.find_element_by_css_selector('#contentsbody > div > div > div.viewTopDiv > h4 ')\n",
    "            title_list.append(no_space(title.text))\n",
    "            date=driver2.find_element_by_css_selector('#contentsbody > div > div > div.petitionViewWrap > div.petitionfield > ul.secondline > li:nth-child(1) > div')\n",
    "            date_list.append((date.text).split('\\n')[0])\n",
    "            result=driver2.find_element_by_css_selector('#contentsbody > div > div > div.petitionViewWrap > div.petitionfield > ul:nth-child(3) > li:nth-child(2) > div')\n",
    "            result_list.append(result.text)\n",
    "            agree=driver2.find_element_by_css_selector('#contentsbody > div > div > div.petitionViewWrap > div.petitionfield > ul.secondline > li:nth-child(2) > div > div > ul > li:nth-child(1)')\n",
    "            agree_list.append((agree.text).split('\\n')[1])\n",
    "            effect=driver2.find_element_by_css_selector('#contentsbody > div > div > div.petitionViewWrap > div.petitionTb > dl:nth-child(3) > dd')\n",
    "            effect_list.append(effect.text)\n",
    "            text=driver2.find_element_by_css_selector('#contentsbody > div > div > div.petitionViewWrap > div.petitionTb > dl:nth-child(4) > dd')\n",
    "            text_list.append(no_space(text.text))\n",
    "            topic=driver2.find_element_by_css_selector('#contentsbody > div > div > div.petitionViewWrap > div.petitionfield > ul:nth-child(2) > li > div')\n",
    "            topic_list.append(topic.text)\n",
    "            \n",
    "        try:\n",
    "            next_page.click()\n",
    "        except:\n",
    "            break\n",
    "except:\n",
    "    print(\"크롤링 완료\")"
   ]
  },
  {
   "cell_type": "code",
   "execution_count": 7,
   "metadata": {},
   "outputs": [
    {
     "name": "stdout",
     "output_type": "stream",
     "text": [
      "                      date        topic result    agree  \\\n",
      "0    2020-11-04~2020-12-06           교육  청원불성립  56,899명   \n",
      "1    2020-11-03~2020-12-03  외교/통일/국방/안보  청원불성립     417명   \n",
      "2    2020-10-28~2020-11-27      행정/지방자치  청원불성립     236명   \n",
      "3    2020-10-26~2020-11-25   수사/법무/사법제도  청원불성립   7,447명   \n",
      "4    2020-10-15~2020-11-14         보건의료  청원불성립   1,421명   \n",
      "..                     ...          ...    ...      ...   \n",
      "143  2020-02-05~2020-03-08         보건의료  청원불성립  12,867명   \n",
      "144  2020-02-28~2020-03-29     국토/해양/교통  청원불성립     581명   \n",
      "145  2020-01-28~2020-02-29  외교/통일/국방/안보  청원불성립     717명   \n",
      "146  2020-01-21~2020-02-22   수사/법무/사법제도  청원불성립   3,772명   \n",
      "147  2020-01-14~2020-02-15     국토/해양/교통  청원불성립  24,822명   \n",
      "\n",
      "                                                effect  \\\n",
      "0    돌봄은 '국가'의 책임으로, 국가 시스템으로 돌봄을 정비하는 법 체계를 마련하고 구...   \n",
      "1                              여성징병제 도입에 찬성에 대한 국회국민동의   \n",
      "2    국유재산법과 공유재산 및 물품관리법 중 사용수익허가시 자격제한 유무의 차이를 일치시...   \n",
      "3    검찰이 바로서고 개혁되길 원하는 다수 국민들의 열망에 따라 검찰 개혁에 사사건건 걸...   \n",
      "4    출산율 제로의 국가 존망 위기에 직면하여 생명을 귀하게 여기는 우리 민족 고유의 가...   \n",
      "..                                                 ...   \n",
      "143  이번 Novel Coronavirus 2019 (2019-nCoV), 통칭 우한 폐...   \n",
      "144                            이스타항공 2000여명 직원의 생존권 보장   \n",
      "145  사회적 악습과 복합적 사회갈등을 조장하는 징병제를 폐지하고, 안보전문성을 강화할 수...   \n",
      "146  수많은 디지털 성범죄 피해자들이 자살하고 있습니다. 하루가 멀다 하고 실시간 수많은...   \n",
      "147  OECD 회원국 중 왜 우리나라만 오토바이 고속도로 진입을 허가하지 않는가. 왜 O...   \n",
      "\n",
      "                                                 title  \\\n",
      "0             초등돌봄교실의 운영사무를 지자체로 이관하도록 하는 법률 제정에 관한 청원   \n",
      "1                                      여성징병제 도입에 관한 청원   \n",
      "2      국유재산 및 공유재산에 대한 관련 법률 통일을 위한 공유재산법 개정 요청에 관한 청원   \n",
      "3                                   윤석열 검찰총장 탄핵에 관한 청원   \n",
      "4                              \"모자보건법 일부개정안 반대\"에 대한 청원   \n",
      "..                                                 ...   \n",
      "143                    우한 폐렴의 추가적인 확산을 막기 위한 조치에 관한 청원   \n",
      "144                           이스타항공의 파산을 막아주십시오에 관한 청원   \n",
      "145                                      모병제 도입에 관한 청원   \n",
      "146  인터넷에서 지울 수 없는, 물리적 성범죄보다 극심한 2차 3차 피해를 야기하는 디지...   \n",
      "147                   오토바이에 대한 자동차 전용도로 통행금지 해제에 관한 청원   \n",
      "\n",
      "                                                  text  \n",
      "0    1. 국가 책임의 일원화된 돌봄서비스 제공을 위한 법 체계 마련이 필요합니다.\\n돌...  \n",
      "1    헌법 제 11조를 보면 모든 국민은 성별에 의하여 정치적 경제적 사회적 문화적 생활...  \n",
      "2    국유재산과 공유재산은 소유나 관리의 주체가 국가 또는 지방자치단체의 차이로써 포괄적...  \n",
      "3    1. 윤석열 총장은 라임, 옵티머스 사태 등 검찰이 향응을 받고 그에 연관되어 있을...  \n",
      "4    모자보건법 일부개정안의 문제점>\\n제2조 제7호>\\n1. 영아살해죄 성립 가능성\\n...  \n",
      "..                                                 ...  \n",
      "143  1. 중국 전역 및 홍콩, 마카오 출신자/2주 이내 중국 내 의심 지역 입국 이력이...  \n",
      "144  이스타항공 조종사노동조합(EPU)에서 호소합니다.우리 이스타항공은 2007년에 설립...  \n",
      "145  # 징병제가 야기한 사회적 폐단\\n(1). 징병제가 사회 갈등에 미치는 영향분석  ...  \n",
      "146  걸리지만 않으면, 걸려도 벌금 내면 그만이란 생각에 몰카 범죄자 2명 중 1명은 재...  \n",
      "147  1. 오토바이는 도로교통법상 자동차에 속하지만 도로 통행은 제한받고 있다.\\n2. ...  \n",
      "\n",
      "[148 rows x 7 columns]\n"
     ]
    }
   ],
   "source": [
    "#판다스로 저장 (후에 csv파일로 저장 라인 추가)\n",
    "\n",
    "df=pd.DataFrame({\"date\":date_list,  \"topic\":topic_list,\"result\":result_list\n",
    "                ,\"agree\":agree_list,\"effect\":effect_list,\"title\":title_list,\"text\":text_list}) \n",
    "print(df) "
   ]
  },
  {
   "cell_type": "code",
   "execution_count": 8,
   "metadata": {},
   "outputs": [],
   "source": [
    "driver.quit()\n",
    "driver2.quit()"
   ]
  },
  {
   "cell_type": "code",
   "execution_count": null,
   "metadata": {},
   "outputs": [],
   "source": []
  }
 ],
 "metadata": {
  "kernelspec": {
   "display_name": "Python 3",
   "language": "python",
   "name": "python3"
  },
  "language_info": {
   "codemirror_mode": {
    "name": "ipython",
    "version": 3
   },
   "file_extension": ".py",
   "mimetype": "text/x-python",
   "name": "python",
   "nbconvert_exporter": "python",
   "pygments_lexer": "ipython3",
   "version": "3.7.9"
  }
 },
 "nbformat": 4,
 "nbformat_minor": 4
}
