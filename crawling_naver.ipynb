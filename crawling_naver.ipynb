{
 "cells": [
  {
   "cell_type": "code",
   "execution_count": 1,
   "metadata": {},
   "outputs": [],
   "source": [
    "from urllib.request import urlopen\n",
    "from bs4 import BeautifulSoup\n",
    "import requests\n",
    "from tqdm.notebook import tqdm\n",
    "import re\n",
    "import time\n",
    "from functools import partial"
   ]
  },
  {
   "cell_type": "code",
   "execution_count": 2,
   "metadata": {},
   "outputs": [],
   "source": [
    "list_topic=['100','101','102','103','104','105']\n",
    "list_subtopic=[['264','265','268','266','267','269'],#청와대,국회/정당,북한,행정,국방/외교,정치일반\n",
    "               ['259','258','261','771','260','262','310','263'],#금융,증권,산업/재계,중기/벤처,부동산,글로벌 경제,생활경제,경제 일반\n",
    "               ['249','250','251','254','252','59b','255','256','257'],#사건사고,교육,노동,언론,환경,인권/복지,식품/의료,지역,사회일반\n",
    "               ['241','239','240','237','238','376','245'],#건강정보,자동차/시승기,도로/교통,여행/레저,음식/맛집,패션/뷰티,생활문화 일반\n",
    "               ['231','232','233','234','322'],#아시아/호주,미국/중남미,유럽,중동/아프리카,세계 일반\n",
    "               ['731','226','227','230','732','283','229','228'],#모바일,인터넷/sns,통신/뉴미디어,IT일반,보안/해킹,컴퓨터,게임/리뷰,과학일반\n",
    "              ]\n",
    "topic_dict={'100':\"정치\",'101':\"경제\",'102':\"사회\",'103':\"생활/문화\",'104':\"국제\",'105':\"IT/과학\"}\n",
    "topic_sub={'264':\"청와대\",'265':'국회/정당','268':'북한','266':'행정','267':'국방/외교','269':'정치일반',\n",
    "           '259':'금융','258':'증권','261':'산업/재계','771':'중기/벤처','260':'부동산','262':'글로벌 경제','310':'생활경제','263':'경제일반',\n",
    "           '249':'사건사고','250':'교육','251':'노동','254':'언론','252':'환경','59b':'인권/복지','255':'식품/의료','256':'지역','257':'사회일반',\n",
    "           '241':'건강정보','239':'자동차/시승기','240':'도로/교통','237':'여행/레저','238':'음식/맛집','376':'패션/뷰티','245':'생활문화 일반',\n",
    "           '231':'아시아/호주','232':'미국/중남미','233':'유럽','234':'중동/아프리카','322':'세계 일반',\n",
    "           '731':'모바일','226':'인터넷/sns','227':'통신/뉴미디어','230':'IT일반','732':'보안/해킹','283':'컴퓨터','229':'게임/리뷰','228':'과학일반'}"
   ]
  },
  {
   "cell_type": "code",
   "execution_count": 3,
   "metadata": {},
   "outputs": [],
   "source": [
    "import pandas as pd\n",
    "import numpy as np\n",
    "#기간설정\n",
    "dt_index = pd.date_range(start='20200101', end='20200101')"
   ]
  },
  {
   "cell_type": "code",
   "execution_count": 4,
   "metadata": {},
   "outputs": [],
   "source": [
    "headers={'User-Agent':'Mozilla/5.0 (Macintosh; Intel Mac OS X 10_15_6) AppleWebKit/605.1.15 (KHTML, like Gecko) Version/14.0.2 Safari/605.1.15',}"
   ]
  },
  {
   "cell_type": "code",
   "execution_count": 5,
   "metadata": {},
   "outputs": [],
   "source": [
    "# 각각의 리스트 생성\n",
    "topic_list=[]\n",
    "date_list=[]\n",
    "title_list=[]\n",
    "text_list=[] \n",
    "subtopic_list=[]\n",
    "page_list=[]"
   ]
  },
  {
   "cell_type": "code",
   "execution_count": 6,
   "metadata": {},
   "outputs": [],
   "source": [
    "def no_space(text):\n",
    "    text1=re.sub('&nbsp; | &nbsp;| \\n|\\t|\\r','',text)\n",
    "    text2=re.sub('\\n\\n','',text1)\n",
    "    return text2"
   ]
  },
  {
   "cell_type": "code",
   "execution_count": 7,
   "metadata": {},
   "outputs": [],
   "source": [
    "\n",
    "#페이지 수 세는 def\n",
    "def paging(page,page_list):\n",
    "    \n",
    "    for p in page:\n",
    "        if(p.text==\"이전\"):\n",
    "            pass\n",
    "        elif(p.text==\"다음\"):\n",
    "            page_list.append(\"https://news.naver.com/main/read.nhn\"+p['href'])\n",
    "            html = \"https://news.naver.com/main/list.nhn\"+p['href']\n",
    "            url=requests.get(html,headers=headers)\n",
    "            bsObject = BeautifulSoup(url.content, \"html.parser\")\n",
    "            page=bsObject.select(\"#main_content > div.paging > a\")\n",
    "            paging(page,page_list)\n",
    "        else:\n",
    "            page_list.append(\"https://news.naver.com/main/read.nhn\"+p['href'])\n",
    "\n"
   ]
  },
  {
   "cell_type": "code",
   "execution_count": null,
   "metadata": {},
   "outputs": [],
   "source": []
  },
  {
   "cell_type": "code",
   "execution_count": 8,
   "metadata": {},
   "outputs": [],
   "source": [
    "#크롤링 def\n",
    "def get_news(date,topic,sub_topic,main_url):\n",
    "    \n",
    "    html = main_url\n",
    "    html=requests.get(html,headers=headers)\n",
    "    bsObject = BeautifulSoup(html.content, \"html.parser\")\n",
    "    \n",
    "    for meta in bsObject.select(\"#main_content > div.list_body.newsflash_body > ul> li > dl \"):\n",
    "        meta=meta.select_one(\"a\")\n",
    "        link=meta['href']\n",
    "        date=date\n",
    "        url=link\n",
    "        url=requests.get(url,headers=headers)\n",
    "        bs_obj=BeautifulSoup(url.content, \"html.parser\")  \n",
    "        try:\n",
    "            title=bs_obj.select_one(\"#articleTitle\").text         \n",
    "            x=bs_obj.select_one(\"#articleBodyContents\").text\n",
    "            title=no_space(title)\n",
    "            text=no_space(x)        \n",
    "            date_list.append(date)\n",
    "            topic_list.append(topic_dict[topic])\n",
    "            subtopic_list.append(topic_sub[sub_topic])\n",
    "            title_list.append(title)\n",
    "            text_list.append(text)\n",
    "        except:\n",
    "            print(meta['href'])\n",
    "    \n"
   ]
  },
  {
   "cell_type": "code",
   "execution_count": null,
   "metadata": {},
   "outputs": [],
   "source": []
  },
  {
   "cell_type": "code",
   "execution_count": null,
   "metadata": {},
   "outputs": [],
   "source": []
  },
  {
   "cell_type": "code",
   "execution_count": 9,
   "metadata": {},
   "outputs": [
    {
     "data": {
      "application/vnd.jupyter.widget-view+json": {
       "model_id": "",
       "version_major": 2,
       "version_minor": 0
      },
      "text/plain": [
       "HBox(children=(HTML(value='Topic_Progress'), FloatProgress(value=0.0, max=6.0), HTML(value='')))"
      ]
     },
     "metadata": {},
     "output_type": "display_data"
    },
    {
     "data": {
      "application/vnd.jupyter.widget-view+json": {
       "model_id": "",
       "version_major": 2,
       "version_minor": 0
      },
      "text/plain": [
       "HBox(children=(HTML(value='Sub_Topic_Progress'), FloatProgress(value=0.0, max=6.0), HTML(value='')))"
      ]
     },
     "metadata": {},
     "output_type": "display_data"
    },
    {
     "data": {
      "application/vnd.jupyter.widget-view+json": {
       "model_id": "b0da1ed295f14b1e90a2c12b3d3a4dc4",
       "version_major": 2,
       "version_minor": 0
      },
      "text/plain": [
       "HBox(children=(HTML(value='Day_Progress'), FloatProgress(value=0.0, max=1.0), HTML(value='')))"
      ]
     },
     "metadata": {},
     "output_type": "display_data"
    },
    {
     "name": "stdout",
     "output_type": "stream",
     "text": [
      "\n"
     ]
    },
    {
     "data": {
      "application/vnd.jupyter.widget-view+json": {
       "model_id": "4f193f562ec24242a015e6673b3b1af1",
       "version_major": 2,
       "version_minor": 0
      },
      "text/plain": [
       "HBox(children=(HTML(value='Day_Progress'), FloatProgress(value=0.0, max=1.0), HTML(value='')))"
      ]
     },
     "metadata": {},
     "output_type": "display_data"
    },
    {
     "name": "stdout",
     "output_type": "stream",
     "text": [
      "\n"
     ]
    },
    {
     "data": {
      "application/vnd.jupyter.widget-view+json": {
       "model_id": "4efa3db1e1574617a2b54c3cfc6da364",
       "version_major": 2,
       "version_minor": 0
      },
      "text/plain": [
       "HBox(children=(HTML(value='Day_Progress'), FloatProgress(value=0.0, max=1.0), HTML(value='')))"
      ]
     },
     "metadata": {},
     "output_type": "display_data"
    },
    {
     "name": "stdout",
     "output_type": "stream",
     "text": [
      "\n"
     ]
    },
    {
     "data": {
      "application/vnd.jupyter.widget-view+json": {
       "model_id": "b8f78c446d83449392336313bd3edb83",
       "version_major": 2,
       "version_minor": 0
      },
      "text/plain": [
       "HBox(children=(HTML(value='Day_Progress'), FloatProgress(value=0.0, max=1.0), HTML(value='')))"
      ]
     },
     "metadata": {},
     "output_type": "display_data"
    },
    {
     "name": "stdout",
     "output_type": "stream",
     "text": [
      "\n"
     ]
    },
    {
     "data": {
      "application/vnd.jupyter.widget-view+json": {
       "model_id": "4fc2617739cd462d9fb1ed01140ce037",
       "version_major": 2,
       "version_minor": 0
      },
      "text/plain": [
       "HBox(children=(HTML(value='Day_Progress'), FloatProgress(value=0.0, max=1.0), HTML(value='')))"
      ]
     },
     "metadata": {},
     "output_type": "display_data"
    },
    {
     "name": "stdout",
     "output_type": "stream",
     "text": [
      "\n"
     ]
    },
    {
     "data": {
      "application/vnd.jupyter.widget-view+json": {
       "model_id": "e4dc511c611e49af9661e6c2041b52c0",
       "version_major": 2,
       "version_minor": 0
      },
      "text/plain": [
       "HBox(children=(HTML(value='Day_Progress'), FloatProgress(value=0.0, max=1.0), HTML(value='')))"
      ]
     },
     "metadata": {},
     "output_type": "display_data"
    },
    {
     "name": "stdout",
     "output_type": "stream",
     "text": [
      "\n"
     ]
    },
    {
     "data": {
      "application/vnd.jupyter.widget-view+json": {
       "model_id": "",
       "version_major": 2,
       "version_minor": 0
      },
      "text/plain": [
       "HBox(children=(HTML(value='Sub_Topic_Progress'), FloatProgress(value=0.0, max=8.0), HTML(value='')))"
      ]
     },
     "metadata": {},
     "output_type": "display_data"
    },
    {
     "data": {
      "application/vnd.jupyter.widget-view+json": {
       "model_id": "3006c983c2c64d5389844238b4fbc5eb",
       "version_major": 2,
       "version_minor": 0
      },
      "text/plain": [
       "HBox(children=(HTML(value='Day_Progress'), FloatProgress(value=0.0, max=1.0), HTML(value='')))"
      ]
     },
     "metadata": {},
     "output_type": "display_data"
    },
    {
     "name": "stdout",
     "output_type": "stream",
     "text": [
      "\n"
     ]
    },
    {
     "data": {
      "application/vnd.jupyter.widget-view+json": {
       "model_id": "39942580d0ec48fd805a7b42bc3f583c",
       "version_major": 2,
       "version_minor": 0
      },
      "text/plain": [
       "HBox(children=(HTML(value='Day_Progress'), FloatProgress(value=0.0, max=1.0), HTML(value='')))"
      ]
     },
     "metadata": {},
     "output_type": "display_data"
    },
    {
     "name": "stdout",
     "output_type": "stream",
     "text": [
      "\n"
     ]
    },
    {
     "data": {
      "application/vnd.jupyter.widget-view+json": {
       "model_id": "a71563f46ebb4a32aa7653fe1880445f",
       "version_major": 2,
       "version_minor": 0
      },
      "text/plain": [
       "HBox(children=(HTML(value='Day_Progress'), FloatProgress(value=0.0, max=1.0), HTML(value='')))"
      ]
     },
     "metadata": {},
     "output_type": "display_data"
    },
    {
     "name": "stdout",
     "output_type": "stream",
     "text": [
      "\n"
     ]
    },
    {
     "data": {
      "application/vnd.jupyter.widget-view+json": {
       "model_id": "f8321d8084f34e08b02514f3c5d2e7ad",
       "version_major": 2,
       "version_minor": 0
      },
      "text/plain": [
       "HBox(children=(HTML(value='Day_Progress'), FloatProgress(value=0.0, max=1.0), HTML(value='')))"
      ]
     },
     "metadata": {},
     "output_type": "display_data"
    },
    {
     "name": "stdout",
     "output_type": "stream",
     "text": [
      "\n"
     ]
    },
    {
     "data": {
      "application/vnd.jupyter.widget-view+json": {
       "model_id": "4af6afa3d6e044ab8f8e439ae6bf0512",
       "version_major": 2,
       "version_minor": 0
      },
      "text/plain": [
       "HBox(children=(HTML(value='Day_Progress'), FloatProgress(value=0.0, max=1.0), HTML(value='')))"
      ]
     },
     "metadata": {},
     "output_type": "display_data"
    },
    {
     "name": "stdout",
     "output_type": "stream",
     "text": [
      "\n"
     ]
    },
    {
     "data": {
      "application/vnd.jupyter.widget-view+json": {
       "model_id": "3d5e62a86d074ee59281117f7e389054",
       "version_major": 2,
       "version_minor": 0
      },
      "text/plain": [
       "HBox(children=(HTML(value='Day_Progress'), FloatProgress(value=0.0, max=1.0), HTML(value='')))"
      ]
     },
     "metadata": {},
     "output_type": "display_data"
    },
    {
     "name": "stdout",
     "output_type": "stream",
     "text": [
      "\n"
     ]
    },
    {
     "data": {
      "application/vnd.jupyter.widget-view+json": {
       "model_id": "dad3b12b8a2942dc85a200a263fb8469",
       "version_major": 2,
       "version_minor": 0
      },
      "text/plain": [
       "HBox(children=(HTML(value='Day_Progress'), FloatProgress(value=0.0, max=1.0), HTML(value='')))"
      ]
     },
     "metadata": {},
     "output_type": "display_data"
    },
    {
     "name": "stdout",
     "output_type": "stream",
     "text": [
      "\n"
     ]
    },
    {
     "data": {
      "application/vnd.jupyter.widget-view+json": {
       "model_id": "9cd128d562af4278b14014247ad16d75",
       "version_major": 2,
       "version_minor": 0
      },
      "text/plain": [
       "HBox(children=(HTML(value='Day_Progress'), FloatProgress(value=0.0, max=1.0), HTML(value='')))"
      ]
     },
     "metadata": {},
     "output_type": "display_data"
    },
    {
     "name": "stdout",
     "output_type": "stream",
     "text": [
      "\n"
     ]
    },
    {
     "data": {
      "application/vnd.jupyter.widget-view+json": {
       "model_id": "",
       "version_major": 2,
       "version_minor": 0
      },
      "text/plain": [
       "HBox(children=(HTML(value='Sub_Topic_Progress'), FloatProgress(value=0.0, max=9.0), HTML(value='')))"
      ]
     },
     "metadata": {},
     "output_type": "display_data"
    },
    {
     "data": {
      "application/vnd.jupyter.widget-view+json": {
       "model_id": "d72c5026aec940428fb1d2e97d93302d",
       "version_major": 2,
       "version_minor": 0
      },
      "text/plain": [
       "HBox(children=(HTML(value='Day_Progress'), FloatProgress(value=0.0, max=1.0), HTML(value='')))"
      ]
     },
     "metadata": {},
     "output_type": "display_data"
    },
    {
     "name": "stdout",
     "output_type": "stream",
     "text": [
      "\n"
     ]
    },
    {
     "data": {
      "application/vnd.jupyter.widget-view+json": {
       "model_id": "fd92fe05c60f48ac978be9d48bd26b33",
       "version_major": 2,
       "version_minor": 0
      },
      "text/plain": [
       "HBox(children=(HTML(value='Day_Progress'), FloatProgress(value=0.0, max=1.0), HTML(value='')))"
      ]
     },
     "metadata": {},
     "output_type": "display_data"
    },
    {
     "name": "stdout",
     "output_type": "stream",
     "text": [
      "\n"
     ]
    },
    {
     "data": {
      "application/vnd.jupyter.widget-view+json": {
       "model_id": "0e80b55cd1474899a2d061db559a33cc",
       "version_major": 2,
       "version_minor": 0
      },
      "text/plain": [
       "HBox(children=(HTML(value='Day_Progress'), FloatProgress(value=0.0, max=1.0), HTML(value='')))"
      ]
     },
     "metadata": {},
     "output_type": "display_data"
    },
    {
     "name": "stdout",
     "output_type": "stream",
     "text": [
      "\n"
     ]
    },
    {
     "data": {
      "application/vnd.jupyter.widget-view+json": {
       "model_id": "720d724ce8ac41468b6bb8af9c7637ab",
       "version_major": 2,
       "version_minor": 0
      },
      "text/plain": [
       "HBox(children=(HTML(value='Day_Progress'), FloatProgress(value=0.0, max=1.0), HTML(value='')))"
      ]
     },
     "metadata": {},
     "output_type": "display_data"
    },
    {
     "name": "stdout",
     "output_type": "stream",
     "text": [
      "\n"
     ]
    },
    {
     "data": {
      "application/vnd.jupyter.widget-view+json": {
       "model_id": "f133911b69104635a43e53f3cbd8de4c",
       "version_major": 2,
       "version_minor": 0
      },
      "text/plain": [
       "HBox(children=(HTML(value='Day_Progress'), FloatProgress(value=0.0, max=1.0), HTML(value='')))"
      ]
     },
     "metadata": {},
     "output_type": "display_data"
    },
    {
     "name": "stdout",
     "output_type": "stream",
     "text": [
      "\n"
     ]
    },
    {
     "data": {
      "application/vnd.jupyter.widget-view+json": {
       "model_id": "73971e517e064ab3b585e1864252a5fe",
       "version_major": 2,
       "version_minor": 0
      },
      "text/plain": [
       "HBox(children=(HTML(value='Day_Progress'), FloatProgress(value=0.0, max=1.0), HTML(value='')))"
      ]
     },
     "metadata": {},
     "output_type": "display_data"
    },
    {
     "name": "stdout",
     "output_type": "stream",
     "text": [
      "\n"
     ]
    },
    {
     "data": {
      "application/vnd.jupyter.widget-view+json": {
       "model_id": "541ebfb001b64725846ea1196388aec7",
       "version_major": 2,
       "version_minor": 0
      },
      "text/plain": [
       "HBox(children=(HTML(value='Day_Progress'), FloatProgress(value=0.0, max=1.0), HTML(value='')))"
      ]
     },
     "metadata": {},
     "output_type": "display_data"
    },
    {
     "name": "stdout",
     "output_type": "stream",
     "text": [
      "https://news.naver.com/main/read.nhn?mode=LS2D&mid=shm&sid1=102&sid2=255&oid=003&aid=0009634308\n",
      "\n"
     ]
    },
    {
     "data": {
      "application/vnd.jupyter.widget-view+json": {
       "model_id": "9f63d225b90047148017b3d08583ca41",
       "version_major": 2,
       "version_minor": 0
      },
      "text/plain": [
       "HBox(children=(HTML(value='Day_Progress'), FloatProgress(value=0.0, max=1.0), HTML(value='')))"
      ]
     },
     "metadata": {},
     "output_type": "display_data"
    },
    {
     "name": "stdout",
     "output_type": "stream",
     "text": [
      "\n"
     ]
    },
    {
     "data": {
      "application/vnd.jupyter.widget-view+json": {
       "model_id": "aae0ec0321cf46ff9c24ef049bcf2d95",
       "version_major": 2,
       "version_minor": 0
      },
      "text/plain": [
       "HBox(children=(HTML(value='Day_Progress'), FloatProgress(value=0.0, max=1.0), HTML(value='')))"
      ]
     },
     "metadata": {},
     "output_type": "display_data"
    },
    {
     "name": "stdout",
     "output_type": "stream",
     "text": [
      "\n"
     ]
    },
    {
     "data": {
      "application/vnd.jupyter.widget-view+json": {
       "model_id": "",
       "version_major": 2,
       "version_minor": 0
      },
      "text/plain": [
       "HBox(children=(HTML(value='Sub_Topic_Progress'), FloatProgress(value=0.0, max=7.0), HTML(value='')))"
      ]
     },
     "metadata": {},
     "output_type": "display_data"
    },
    {
     "data": {
      "application/vnd.jupyter.widget-view+json": {
       "model_id": "cea184f5110e4b5dabcaf913bfab71ea",
       "version_major": 2,
       "version_minor": 0
      },
      "text/plain": [
       "HBox(children=(HTML(value='Day_Progress'), FloatProgress(value=0.0, max=1.0), HTML(value='')))"
      ]
     },
     "metadata": {},
     "output_type": "display_data"
    },
    {
     "name": "stdout",
     "output_type": "stream",
     "text": [
      "\n"
     ]
    },
    {
     "data": {
      "application/vnd.jupyter.widget-view+json": {
       "model_id": "108074d405e4472393ceb1d0e393cc77",
       "version_major": 2,
       "version_minor": 0
      },
      "text/plain": [
       "HBox(children=(HTML(value='Day_Progress'), FloatProgress(value=0.0, max=1.0), HTML(value='')))"
      ]
     },
     "metadata": {},
     "output_type": "display_data"
    },
    {
     "name": "stdout",
     "output_type": "stream",
     "text": [
      "\n"
     ]
    },
    {
     "data": {
      "application/vnd.jupyter.widget-view+json": {
       "model_id": "c64ba30cbdac4d00b279e62279c2f345",
       "version_major": 2,
       "version_minor": 0
      },
      "text/plain": [
       "HBox(children=(HTML(value='Day_Progress'), FloatProgress(value=0.0, max=1.0), HTML(value='')))"
      ]
     },
     "metadata": {},
     "output_type": "display_data"
    },
    {
     "name": "stdout",
     "output_type": "stream",
     "text": [
      "\n"
     ]
    },
    {
     "data": {
      "application/vnd.jupyter.widget-view+json": {
       "model_id": "974980fb9d4d4bdfaad7c9e46502313d",
       "version_major": 2,
       "version_minor": 0
      },
      "text/plain": [
       "HBox(children=(HTML(value='Day_Progress'), FloatProgress(value=0.0, max=1.0), HTML(value='')))"
      ]
     },
     "metadata": {},
     "output_type": "display_data"
    },
    {
     "name": "stdout",
     "output_type": "stream",
     "text": [
      "\n"
     ]
    },
    {
     "data": {
      "application/vnd.jupyter.widget-view+json": {
       "model_id": "0e84140a9b02470cb0080e5280d382fe",
       "version_major": 2,
       "version_minor": 0
      },
      "text/plain": [
       "HBox(children=(HTML(value='Day_Progress'), FloatProgress(value=0.0, max=1.0), HTML(value='')))"
      ]
     },
     "metadata": {},
     "output_type": "display_data"
    },
    {
     "name": "stdout",
     "output_type": "stream",
     "text": [
      "\n"
     ]
    },
    {
     "data": {
      "application/vnd.jupyter.widget-view+json": {
       "model_id": "8abf783f5ce54db08c28847421d7eaa2",
       "version_major": 2,
       "version_minor": 0
      },
      "text/plain": [
       "HBox(children=(HTML(value='Day_Progress'), FloatProgress(value=0.0, max=1.0), HTML(value='')))"
      ]
     },
     "metadata": {},
     "output_type": "display_data"
    },
    {
     "name": "stdout",
     "output_type": "stream",
     "text": [
      "\n"
     ]
    },
    {
     "data": {
      "application/vnd.jupyter.widget-view+json": {
       "model_id": "c3468cc38cfa43d9b06de88b7f56f4ed",
       "version_major": 2,
       "version_minor": 0
      },
      "text/plain": [
       "HBox(children=(HTML(value='Day_Progress'), FloatProgress(value=0.0, max=1.0), HTML(value='')))"
      ]
     },
     "metadata": {},
     "output_type": "display_data"
    },
    {
     "name": "stdout",
     "output_type": "stream",
     "text": [
      "\n"
     ]
    },
    {
     "data": {
      "application/vnd.jupyter.widget-view+json": {
       "model_id": "",
       "version_major": 2,
       "version_minor": 0
      },
      "text/plain": [
       "HBox(children=(HTML(value='Sub_Topic_Progress'), FloatProgress(value=0.0, max=5.0), HTML(value='')))"
      ]
     },
     "metadata": {},
     "output_type": "display_data"
    },
    {
     "data": {
      "application/vnd.jupyter.widget-view+json": {
       "model_id": "d9184f16b7ef4ca3bebdf1a3f9412155",
       "version_major": 2,
       "version_minor": 0
      },
      "text/plain": [
       "HBox(children=(HTML(value='Day_Progress'), FloatProgress(value=0.0, max=1.0), HTML(value='')))"
      ]
     },
     "metadata": {},
     "output_type": "display_data"
    },
    {
     "name": "stdout",
     "output_type": "stream",
     "text": [
      "\n"
     ]
    },
    {
     "data": {
      "application/vnd.jupyter.widget-view+json": {
       "model_id": "5826f2bf709146b69e10291bd6d0560f",
       "version_major": 2,
       "version_minor": 0
      },
      "text/plain": [
       "HBox(children=(HTML(value='Day_Progress'), FloatProgress(value=0.0, max=1.0), HTML(value='')))"
      ]
     },
     "metadata": {},
     "output_type": "display_data"
    },
    {
     "name": "stdout",
     "output_type": "stream",
     "text": [
      "\n"
     ]
    },
    {
     "data": {
      "application/vnd.jupyter.widget-view+json": {
       "model_id": "15cc24f8fd764f288ed6eb713aa20e14",
       "version_major": 2,
       "version_minor": 0
      },
      "text/plain": [
       "HBox(children=(HTML(value='Day_Progress'), FloatProgress(value=0.0, max=1.0), HTML(value='')))"
      ]
     },
     "metadata": {},
     "output_type": "display_data"
    },
    {
     "name": "stdout",
     "output_type": "stream",
     "text": [
      "\n"
     ]
    },
    {
     "data": {
      "application/vnd.jupyter.widget-view+json": {
       "model_id": "0eb2158e07ee47ebaf799fd45a806eff",
       "version_major": 2,
       "version_minor": 0
      },
      "text/plain": [
       "HBox(children=(HTML(value='Day_Progress'), FloatProgress(value=0.0, max=1.0), HTML(value='')))"
      ]
     },
     "metadata": {},
     "output_type": "display_data"
    },
    {
     "name": "stdout",
     "output_type": "stream",
     "text": [
      "\n"
     ]
    },
    {
     "data": {
      "application/vnd.jupyter.widget-view+json": {
       "model_id": "c676f672d8864828be07ec6edfc377db",
       "version_major": 2,
       "version_minor": 0
      },
      "text/plain": [
       "HBox(children=(HTML(value='Day_Progress'), FloatProgress(value=0.0, max=1.0), HTML(value='')))"
      ]
     },
     "metadata": {},
     "output_type": "display_data"
    },
    {
     "name": "stdout",
     "output_type": "stream",
     "text": [
      "\n"
     ]
    },
    {
     "data": {
      "application/vnd.jupyter.widget-view+json": {
       "model_id": "",
       "version_major": 2,
       "version_minor": 0
      },
      "text/plain": [
       "HBox(children=(HTML(value='Sub_Topic_Progress'), FloatProgress(value=0.0, max=8.0), HTML(value='')))"
      ]
     },
     "metadata": {},
     "output_type": "display_data"
    },
    {
     "data": {
      "application/vnd.jupyter.widget-view+json": {
       "model_id": "4a2b31a8cc4f4767ac192354e3c13761",
       "version_major": 2,
       "version_minor": 0
      },
      "text/plain": [
       "HBox(children=(HTML(value='Day_Progress'), FloatProgress(value=0.0, max=1.0), HTML(value='')))"
      ]
     },
     "metadata": {},
     "output_type": "display_data"
    },
    {
     "name": "stdout",
     "output_type": "stream",
     "text": [
      "\n"
     ]
    },
    {
     "data": {
      "application/vnd.jupyter.widget-view+json": {
       "model_id": "18765c4a4912458ca0049a7201209dfe",
       "version_major": 2,
       "version_minor": 0
      },
      "text/plain": [
       "HBox(children=(HTML(value='Day_Progress'), FloatProgress(value=0.0, max=1.0), HTML(value='')))"
      ]
     },
     "metadata": {},
     "output_type": "display_data"
    },
    {
     "name": "stdout",
     "output_type": "stream",
     "text": [
      "\n"
     ]
    },
    {
     "data": {
      "application/vnd.jupyter.widget-view+json": {
       "model_id": "c2effde079894d0a91938dd7c0c9facd",
       "version_major": 2,
       "version_minor": 0
      },
      "text/plain": [
       "HBox(children=(HTML(value='Day_Progress'), FloatProgress(value=0.0, max=1.0), HTML(value='')))"
      ]
     },
     "metadata": {},
     "output_type": "display_data"
    },
    {
     "name": "stdout",
     "output_type": "stream",
     "text": [
      "\n"
     ]
    },
    {
     "data": {
      "application/vnd.jupyter.widget-view+json": {
       "model_id": "dc2a4fbaafb64bd5823cc1c0d4afdbbd",
       "version_major": 2,
       "version_minor": 0
      },
      "text/plain": [
       "HBox(children=(HTML(value='Day_Progress'), FloatProgress(value=0.0, max=1.0), HTML(value='')))"
      ]
     },
     "metadata": {},
     "output_type": "display_data"
    },
    {
     "name": "stdout",
     "output_type": "stream",
     "text": [
      "\n"
     ]
    },
    {
     "data": {
      "application/vnd.jupyter.widget-view+json": {
       "model_id": "27de8b559a5842debb668e95d1b9ecf6",
       "version_major": 2,
       "version_minor": 0
      },
      "text/plain": [
       "HBox(children=(HTML(value='Day_Progress'), FloatProgress(value=0.0, max=1.0), HTML(value='')))"
      ]
     },
     "metadata": {},
     "output_type": "display_data"
    },
    {
     "name": "stdout",
     "output_type": "stream",
     "text": [
      "\n"
     ]
    },
    {
     "data": {
      "application/vnd.jupyter.widget-view+json": {
       "model_id": "a966e73377cf4f468608da2078b12592",
       "version_major": 2,
       "version_minor": 0
      },
      "text/plain": [
       "HBox(children=(HTML(value='Day_Progress'), FloatProgress(value=0.0, max=1.0), HTML(value='')))"
      ]
     },
     "metadata": {},
     "output_type": "display_data"
    },
    {
     "name": "stdout",
     "output_type": "stream",
     "text": [
      "\n"
     ]
    },
    {
     "data": {
      "application/vnd.jupyter.widget-view+json": {
       "model_id": "17655c3abb424afdb07ed1a307b58c05",
       "version_major": 2,
       "version_minor": 0
      },
      "text/plain": [
       "HBox(children=(HTML(value='Day_Progress'), FloatProgress(value=0.0, max=1.0), HTML(value='')))"
      ]
     },
     "metadata": {},
     "output_type": "display_data"
    },
    {
     "name": "stdout",
     "output_type": "stream",
     "text": [
      "\n"
     ]
    },
    {
     "data": {
      "application/vnd.jupyter.widget-view+json": {
       "model_id": "22513b0f72d341cda48716c1ad5400a9",
       "version_major": 2,
       "version_minor": 0
      },
      "text/plain": [
       "HBox(children=(HTML(value='Day_Progress'), FloatProgress(value=0.0, max=1.0), HTML(value='')))"
      ]
     },
     "metadata": {},
     "output_type": "display_data"
    },
    {
     "name": "stdout",
     "output_type": "stream",
     "text": [
      "\n",
      "257.2686128616333\n"
     ]
    }
   ],
   "source": [
    "#크롤링 시작\n",
    "num=0\n",
    "start_time=time.time()\n",
    "for num_main in tqdm(range(len(list_topic)),desc='Topic_Progress',leave=False):\n",
    "    for num_sub in tqdm(range(len(list_subtopic[num])),desc='Sub_Topic_Progress',leave=False):\n",
    "        main_url=\"https://news.naver.com/main/list.nhn?mode=LS2D&mid=shm&sid2=\"+list_subtopic[num_main][num_sub]+\"&sid1=\"+list_topic[num_main]+\"&date=\"\n",
    "        for num_date in tqdm(range(len(dt_index.date)),desc='Day_Progress'):\n",
    "            date=str(dt_index.date[num_date])\n",
    "            date=date.split('-')[0]+date.split('-')[1]+date.split('-')[2]\n",
    "            page_list=[]\n",
    "            get_news(date,list_topic[num_main],list_subtopic[num_main][num_sub],main_url+date)    \n",
    "            \n",
    "            \n",
    "            html = main_url+date\n",
    "            html=requests.get(html,headers=headers)\n",
    "            bsObject = BeautifulSoup(html.content, \"html.parser\")     \n",
    "            \n",
    "            page=bsObject.select(\"#main_content > div.paging > a\")\n",
    "            paging(page,page_list)\n",
    "            \n",
    "            for k in page_list:\n",
    "                get_news(date,list_topic[num_main],list_subtopic[num_main][num_sub],k)\n",
    "\n",
    "\n",
    "\n",
    "\n",
    "            \n",
    "            time.sleep(0.05)\n",
    "            \n",
    "            \n",
    "    num+=1\n",
    "print(time.time()-start_time)"
   ]
  },
  {
   "cell_type": "code",
   "execution_count": 10,
   "metadata": {},
   "outputs": [
    {
     "name": "stdout",
     "output_type": "stream",
     "text": [
      "         date                                       title  topic  \\\n",
      "0    20200101                        문 대통령, 해맞이 산행 [포토뉴스]     정치   \n",
      "1    20200101        靑, 이르면 6일 비서진 교체·조직 개편…윤건영 구로을 출마 유력     정치   \n",
      "2    20200101                       추미애, 파격인사로 윤석열 손발 묶는다     정치   \n",
      "3    20200101      신년사도, 남한 언급도 없는 김정은…靑 말 아낀 채 의중 파악(종합)     정치   \n",
      "4    20200101                文대통령, 6일께 비서관 인사…윤건영 총선출마 가닥     정치   \n",
      "..        ...                                         ...    ...   \n",
      "854  20200101      박래웅 아주대 의대 교수 \"의료정보 공유하는 '연구자유지대' 만들것\"  IT/과학   \n",
      "855  20200101       [이광식의 천문학+] 놓치면 억울할 2020년 10가지 ‘우주 쇼’  IT/과학   \n",
      "856  20200101  [전망2020] 암흑물질 관측 망원경 시험가동, 차세대 발사체 시험발사 목전  IT/과학   \n",
      "857  20200101           KEIRS, 조직 개편...빅데이터, ICT플랫폼부 등 신설  IT/과학   \n",
      "858  20200101                  새해부터 소아당뇨 관리기기 구입도 의료급여 적용  IT/과학   \n",
      "\n",
      "                                                  text  \n",
      "0    \\n문재인 대통령이 1일 ‘2019년을 빛낸 의인’들과 함께 신년 해맞이를 위해 서...  \n",
      "1    \\n윤 후임에 오종식·신상엽·이진석 등 거론고민정 불출마로 입장 정리한듯…사실상 중...  \n",
      "2    \\n청와대, 경찰에 검사장 승진 대상자 세평 취합 주문추미애 법무부 장관 후보자가 ...  \n",
      "3    \\n국가안보실 중심으로 신년사 대기…낮 12시30분 넘자 '안한다' 결론金 \"곧 새...  \n",
      "4    [머니투데이 김성휘  기자] [[the300]국정상황실 포함 조직개편, '4월 총선...  \n",
      "..                                                 ...  \n",
      "854  \\n국가·병원간 장벽 깨고 자료공유개인정보 원본 유출없어 규제통과\"리서치 프리존 3...  \n",
      "855  [서울신문 나우뉴스]달 뒤에서 까꿍하는 화성.(Image credit: SkySaf...  \n",
      "856  \\n천문, 우주 분야 기대되는 연구암흑물질 및 에너지 관측과 우주 은하지도 완성을 ...  \n",
      "857  7본부 4실 19부 5팀 1연수원 체제로(지디넷코리아=방은주  기자)한국교육학술정보...  \n",
      "858  올해부터 소아당뇨 환자는 질병 관리를 위해 필요한 당뇨병 관리기기를 구매할 때도 요...  \n",
      "\n",
      "[859 rows x 4 columns]\n"
     ]
    }
   ],
   "source": [
    "#판다스로 저장 (후에 csv파일로 저장 라인 추가)\n",
    "\n",
    "df=pd.DataFrame({\"date\":date_list, \"title\":title_list, \"topic\":topic_list,\"text\":text_list}) \n",
    "print(df) "
   ]
  },
  {
   "cell_type": "code",
   "execution_count": null,
   "metadata": {},
   "outputs": [],
   "source": []
  },
  {
   "cell_type": "code",
   "execution_count": null,
   "metadata": {},
   "outputs": [],
   "source": []
  }
 ],
 "metadata": {
  "kernelspec": {
   "display_name": "Python 3",
   "language": "python",
   "name": "python3"
  },
  "language_info": {
   "codemirror_mode": {
    "name": "ipython",
    "version": 3
   },
   "file_extension": ".py",
   "mimetype": "text/x-python",
   "name": "python",
   "nbconvert_exporter": "python",
   "pygments_lexer": "ipython3",
   "version": "3.7.9"
  }
 },
 "nbformat": 4,
 "nbformat_minor": 4
}
